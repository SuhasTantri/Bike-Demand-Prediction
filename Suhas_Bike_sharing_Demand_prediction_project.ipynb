{
  "nbformat": 4,
  "nbformat_minor": 0,
  "metadata": {
    "colab": {
      "name": "Suhas Bike sharing Demand prediction project.ipynb",
      "provenance": [],
      "authorship_tag": "ABX9TyPUb2P7J5c/lPy01dUdb8wD",
      "include_colab_link": true
    },
    "kernelspec": {
      "name": "python3",
      "display_name": "Python 3"
    },
    "language_info": {
      "name": "python"
    }
  },
  "cells": [
    {
      "cell_type": "markdown",
      "metadata": {
        "id": "view-in-github",
        "colab_type": "text"
      },
      "source": [
        "<a href=\"https://colab.research.google.com/github/SuhasTantri/Bike-Demand-Prediction/blob/branch-1/Suhas_Bike_sharing_Demand_prediction_project.ipynb\" target=\"_parent\"><img src=\"https://colab.research.google.com/assets/colab-badge.svg\" alt=\"Open In Colab\"/></a>"
      ]
    },
    {
      "cell_type": "markdown",
      "metadata": {
        "id": "tOGC-qoyhJeX"
      },
      "source": [
        "# <b><u> Project Title : Seoul Bike Sharing Demand Prediction </u></b>"
      ]
    },
    {
      "cell_type": "markdown",
      "metadata": {
        "id": "Y06xIdG26kRF"
      },
      "source": [
        "## <b> Problem Description </b>\n",
        "\n",
        "### Currently Rental bikes are introduced in many urban cities for the enhancement of mobility comfort. It is important to make the rental bike available and accessible to the public at the right time as it lessens the waiting time. Eventually, providing the city with a stable supply of rental bikes becomes a major concern. The crucial part is the prediction of bike count required at each hour for the stable supply of rental bikes.\n"
      ]
    },
    {
      "cell_type": "markdown",
      "metadata": {
        "id": "AlLxAtlziMbP"
      },
      "source": [
        "## <b> Data Description </b>\n",
        "\n",
        "### <b> The dataset contains weather information (Temperature, Humidity, Windspeed, Visibility, Dewpoint, Solar radiation, Snowfall, Rainfall), the number of bikes rented per hour and date information.</b>\n",
        "\n",
        "\n",
        "### <b>Attribute Information: </b>\n",
        "\n",
        "* ### Date : year-month-day\n",
        "* ### Rented Bike count - Count of bikes rented at each hour\n",
        "* ### Hour - Hour of the day\n",
        "* ### Temperature-Temperature in Celsius\n",
        "* ### Humidity - %\n",
        "* ### Windspeed - m/s\n",
        "* ### Visibility - 10m\n",
        "* ### Dew point temperature - Celsius\n",
        "* ### Solar radiation - MJ/m2\n",
        "* ### Rainfall - mm\n",
        "* ### Snowfall - cm\n",
        "* ### Seasons - Winter, Spring, Summer, Autumn\n",
        "* ### Holiday - Holiday/No holiday\n",
        "* ### Functional Day - NoFunc(Non Functional Hours), Fun(Functional hours)"
      ]
    },
    {
      "cell_type": "code",
      "metadata": {
        "id": "KU2Seiiy8Rx-"
      },
      "source": [
        "# Importing the necessary libraries\n",
        "import numpy as np\n",
        "import pandas as pd\n",
        "from numpy import math\n",
        "import seaborn as sns\n",
        "import matplotlib.pyplot as plt\n",
        "import math\n",
        "import warnings\n",
        "warnings.filterwarnings('ignore')"
      ],
      "execution_count": 352,
      "outputs": []
    },
    {
      "cell_type": "code",
      "metadata": {
        "colab": {
          "base_uri": "https://localhost:8080/"
        },
        "id": "lTJyDa3zXAf1",
        "outputId": "68df2403-252d-4299-a177-447fe2c7d5a3"
      },
      "source": [
        "# Mounting the drive\n",
        "from google.colab import drive\n",
        "drive.mount('/content/drive')"
      ],
      "execution_count": 353,
      "outputs": [
        {
          "output_type": "stream",
          "name": "stdout",
          "text": [
            "Drive already mounted at /content/drive; to attempt to forcibly remount, call drive.mount(\"/content/drive\", force_remount=True).\n"
          ]
        }
      ]
    },
    {
      "cell_type": "code",
      "metadata": {
        "id": "0DmXyIsBYCGN"
      },
      "source": [
        "# reading the dataset\n",
        "df=pd.read_csv('/content/drive/MyDrive/Bike sharing Demand Prediction/SeoulBikeData.csv',encoding='unicode_escape')"
      ],
      "execution_count": 354,
      "outputs": []
    },
    {
      "cell_type": "code",
      "metadata": {
        "colab": {
          "base_uri": "https://localhost:8080/",
          "height": 206
        },
        "id": "J5l-iy7tYGTm",
        "outputId": "f95c17bd-f873-44f6-b031-2b2fedc6c5dc"
      },
      "source": [
        "# brief look at the dataset\n",
        "df.head()"
      ],
      "execution_count": 355,
      "outputs": [
        {
          "output_type": "execute_result",
          "data": {
            "text/html": [
              "<div>\n",
              "<style scoped>\n",
              "    .dataframe tbody tr th:only-of-type {\n",
              "        vertical-align: middle;\n",
              "    }\n",
              "\n",
              "    .dataframe tbody tr th {\n",
              "        vertical-align: top;\n",
              "    }\n",
              "\n",
              "    .dataframe thead th {\n",
              "        text-align: right;\n",
              "    }\n",
              "</style>\n",
              "<table border=\"1\" class=\"dataframe\">\n",
              "  <thead>\n",
              "    <tr style=\"text-align: right;\">\n",
              "      <th></th>\n",
              "      <th>Date</th>\n",
              "      <th>Rented Bike Count</th>\n",
              "      <th>Hour</th>\n",
              "      <th>Temperature(°C)</th>\n",
              "      <th>Humidity(%)</th>\n",
              "      <th>Wind speed (m/s)</th>\n",
              "      <th>Visibility (10m)</th>\n",
              "      <th>Dew point temperature(°C)</th>\n",
              "      <th>Solar Radiation (MJ/m2)</th>\n",
              "      <th>Rainfall(mm)</th>\n",
              "      <th>Snowfall (cm)</th>\n",
              "      <th>Seasons</th>\n",
              "      <th>Holiday</th>\n",
              "      <th>Functioning Day</th>\n",
              "    </tr>\n",
              "  </thead>\n",
              "  <tbody>\n",
              "    <tr>\n",
              "      <th>0</th>\n",
              "      <td>01/12/2017</td>\n",
              "      <td>254</td>\n",
              "      <td>0</td>\n",
              "      <td>-5.2</td>\n",
              "      <td>37</td>\n",
              "      <td>2.2</td>\n",
              "      <td>2000</td>\n",
              "      <td>-17.6</td>\n",
              "      <td>0.0</td>\n",
              "      <td>0.0</td>\n",
              "      <td>0.0</td>\n",
              "      <td>Winter</td>\n",
              "      <td>No Holiday</td>\n",
              "      <td>Yes</td>\n",
              "    </tr>\n",
              "    <tr>\n",
              "      <th>1</th>\n",
              "      <td>01/12/2017</td>\n",
              "      <td>204</td>\n",
              "      <td>1</td>\n",
              "      <td>-5.5</td>\n",
              "      <td>38</td>\n",
              "      <td>0.8</td>\n",
              "      <td>2000</td>\n",
              "      <td>-17.6</td>\n",
              "      <td>0.0</td>\n",
              "      <td>0.0</td>\n",
              "      <td>0.0</td>\n",
              "      <td>Winter</td>\n",
              "      <td>No Holiday</td>\n",
              "      <td>Yes</td>\n",
              "    </tr>\n",
              "    <tr>\n",
              "      <th>2</th>\n",
              "      <td>01/12/2017</td>\n",
              "      <td>173</td>\n",
              "      <td>2</td>\n",
              "      <td>-6.0</td>\n",
              "      <td>39</td>\n",
              "      <td>1.0</td>\n",
              "      <td>2000</td>\n",
              "      <td>-17.7</td>\n",
              "      <td>0.0</td>\n",
              "      <td>0.0</td>\n",
              "      <td>0.0</td>\n",
              "      <td>Winter</td>\n",
              "      <td>No Holiday</td>\n",
              "      <td>Yes</td>\n",
              "    </tr>\n",
              "    <tr>\n",
              "      <th>3</th>\n",
              "      <td>01/12/2017</td>\n",
              "      <td>107</td>\n",
              "      <td>3</td>\n",
              "      <td>-6.2</td>\n",
              "      <td>40</td>\n",
              "      <td>0.9</td>\n",
              "      <td>2000</td>\n",
              "      <td>-17.6</td>\n",
              "      <td>0.0</td>\n",
              "      <td>0.0</td>\n",
              "      <td>0.0</td>\n",
              "      <td>Winter</td>\n",
              "      <td>No Holiday</td>\n",
              "      <td>Yes</td>\n",
              "    </tr>\n",
              "    <tr>\n",
              "      <th>4</th>\n",
              "      <td>01/12/2017</td>\n",
              "      <td>78</td>\n",
              "      <td>4</td>\n",
              "      <td>-6.0</td>\n",
              "      <td>36</td>\n",
              "      <td>2.3</td>\n",
              "      <td>2000</td>\n",
              "      <td>-18.6</td>\n",
              "      <td>0.0</td>\n",
              "      <td>0.0</td>\n",
              "      <td>0.0</td>\n",
              "      <td>Winter</td>\n",
              "      <td>No Holiday</td>\n",
              "      <td>Yes</td>\n",
              "    </tr>\n",
              "  </tbody>\n",
              "</table>\n",
              "</div>"
            ],
            "text/plain": [
              "         Date  Rented Bike Count  Hour  ...  Seasons     Holiday  Functioning Day\n",
              "0  01/12/2017                254     0  ...   Winter  No Holiday              Yes\n",
              "1  01/12/2017                204     1  ...   Winter  No Holiday              Yes\n",
              "2  01/12/2017                173     2  ...   Winter  No Holiday              Yes\n",
              "3  01/12/2017                107     3  ...   Winter  No Holiday              Yes\n",
              "4  01/12/2017                 78     4  ...   Winter  No Holiday              Yes\n",
              "\n",
              "[5 rows x 14 columns]"
            ]
          },
          "metadata": {},
          "execution_count": 355
        }
      ]
    },
    {
      "cell_type": "code",
      "metadata": {
        "colab": {
          "base_uri": "https://localhost:8080/"
        },
        "id": "3ABWNt9WZrZd",
        "outputId": "6248d455-f84e-4713-b770-d71f23cb9c85"
      },
      "source": [
        "# Shape of the dataset\n",
        "df.shape"
      ],
      "execution_count": 356,
      "outputs": [
        {
          "output_type": "execute_result",
          "data": {
            "text/plain": [
              "(8760, 14)"
            ]
          },
          "metadata": {},
          "execution_count": 356
        }
      ]
    },
    {
      "cell_type": "code",
      "metadata": {
        "colab": {
          "base_uri": "https://localhost:8080/"
        },
        "id": "kZVxfducYqkN",
        "outputId": "d15c25e0-2b1c-401e-adfc-ab340af08589"
      },
      "source": [
        "# information about the dataset\n",
        "df.info()"
      ],
      "execution_count": 357,
      "outputs": [
        {
          "output_type": "stream",
          "name": "stdout",
          "text": [
            "<class 'pandas.core.frame.DataFrame'>\n",
            "RangeIndex: 8760 entries, 0 to 8759\n",
            "Data columns (total 14 columns):\n",
            " #   Column                     Non-Null Count  Dtype  \n",
            "---  ------                     --------------  -----  \n",
            " 0   Date                       8760 non-null   object \n",
            " 1   Rented Bike Count          8760 non-null   int64  \n",
            " 2   Hour                       8760 non-null   int64  \n",
            " 3   Temperature(°C)            8760 non-null   float64\n",
            " 4   Humidity(%)                8760 non-null   int64  \n",
            " 5   Wind speed (m/s)           8760 non-null   float64\n",
            " 6   Visibility (10m)           8760 non-null   int64  \n",
            " 7   Dew point temperature(°C)  8760 non-null   float64\n",
            " 8   Solar Radiation (MJ/m2)    8760 non-null   float64\n",
            " 9   Rainfall(mm)               8760 non-null   float64\n",
            " 10  Snowfall (cm)              8760 non-null   float64\n",
            " 11  Seasons                    8760 non-null   object \n",
            " 12  Holiday                    8760 non-null   object \n",
            " 13  Functioning Day            8760 non-null   object \n",
            "dtypes: float64(6), int64(4), object(4)\n",
            "memory usage: 958.2+ KB\n"
          ]
        }
      ]
    },
    {
      "cell_type": "code",
      "metadata": {
        "colab": {
          "base_uri": "https://localhost:8080/",
          "height": 300
        },
        "id": "hEMbWow3Y9CS",
        "outputId": "cf717c49-c9a4-4733-cbb5-54e58249542e"
      },
      "source": [
        "df.describe()"
      ],
      "execution_count": 358,
      "outputs": [
        {
          "output_type": "execute_result",
          "data": {
            "text/html": [
              "<div>\n",
              "<style scoped>\n",
              "    .dataframe tbody tr th:only-of-type {\n",
              "        vertical-align: middle;\n",
              "    }\n",
              "\n",
              "    .dataframe tbody tr th {\n",
              "        vertical-align: top;\n",
              "    }\n",
              "\n",
              "    .dataframe thead th {\n",
              "        text-align: right;\n",
              "    }\n",
              "</style>\n",
              "<table border=\"1\" class=\"dataframe\">\n",
              "  <thead>\n",
              "    <tr style=\"text-align: right;\">\n",
              "      <th></th>\n",
              "      <th>Rented Bike Count</th>\n",
              "      <th>Hour</th>\n",
              "      <th>Temperature(°C)</th>\n",
              "      <th>Humidity(%)</th>\n",
              "      <th>Wind speed (m/s)</th>\n",
              "      <th>Visibility (10m)</th>\n",
              "      <th>Dew point temperature(°C)</th>\n",
              "      <th>Solar Radiation (MJ/m2)</th>\n",
              "      <th>Rainfall(mm)</th>\n",
              "      <th>Snowfall (cm)</th>\n",
              "    </tr>\n",
              "  </thead>\n",
              "  <tbody>\n",
              "    <tr>\n",
              "      <th>count</th>\n",
              "      <td>8760.000000</td>\n",
              "      <td>8760.000000</td>\n",
              "      <td>8760.000000</td>\n",
              "      <td>8760.000000</td>\n",
              "      <td>8760.000000</td>\n",
              "      <td>8760.000000</td>\n",
              "      <td>8760.000000</td>\n",
              "      <td>8760.000000</td>\n",
              "      <td>8760.000000</td>\n",
              "      <td>8760.000000</td>\n",
              "    </tr>\n",
              "    <tr>\n",
              "      <th>mean</th>\n",
              "      <td>704.602055</td>\n",
              "      <td>11.500000</td>\n",
              "      <td>12.882922</td>\n",
              "      <td>58.226256</td>\n",
              "      <td>1.724909</td>\n",
              "      <td>1436.825799</td>\n",
              "      <td>4.073813</td>\n",
              "      <td>0.569111</td>\n",
              "      <td>0.148687</td>\n",
              "      <td>0.075068</td>\n",
              "    </tr>\n",
              "    <tr>\n",
              "      <th>std</th>\n",
              "      <td>644.997468</td>\n",
              "      <td>6.922582</td>\n",
              "      <td>11.944825</td>\n",
              "      <td>20.362413</td>\n",
              "      <td>1.036300</td>\n",
              "      <td>608.298712</td>\n",
              "      <td>13.060369</td>\n",
              "      <td>0.868746</td>\n",
              "      <td>1.128193</td>\n",
              "      <td>0.436746</td>\n",
              "    </tr>\n",
              "    <tr>\n",
              "      <th>min</th>\n",
              "      <td>0.000000</td>\n",
              "      <td>0.000000</td>\n",
              "      <td>-17.800000</td>\n",
              "      <td>0.000000</td>\n",
              "      <td>0.000000</td>\n",
              "      <td>27.000000</td>\n",
              "      <td>-30.600000</td>\n",
              "      <td>0.000000</td>\n",
              "      <td>0.000000</td>\n",
              "      <td>0.000000</td>\n",
              "    </tr>\n",
              "    <tr>\n",
              "      <th>25%</th>\n",
              "      <td>191.000000</td>\n",
              "      <td>5.750000</td>\n",
              "      <td>3.500000</td>\n",
              "      <td>42.000000</td>\n",
              "      <td>0.900000</td>\n",
              "      <td>940.000000</td>\n",
              "      <td>-4.700000</td>\n",
              "      <td>0.000000</td>\n",
              "      <td>0.000000</td>\n",
              "      <td>0.000000</td>\n",
              "    </tr>\n",
              "    <tr>\n",
              "      <th>50%</th>\n",
              "      <td>504.500000</td>\n",
              "      <td>11.500000</td>\n",
              "      <td>13.700000</td>\n",
              "      <td>57.000000</td>\n",
              "      <td>1.500000</td>\n",
              "      <td>1698.000000</td>\n",
              "      <td>5.100000</td>\n",
              "      <td>0.010000</td>\n",
              "      <td>0.000000</td>\n",
              "      <td>0.000000</td>\n",
              "    </tr>\n",
              "    <tr>\n",
              "      <th>75%</th>\n",
              "      <td>1065.250000</td>\n",
              "      <td>17.250000</td>\n",
              "      <td>22.500000</td>\n",
              "      <td>74.000000</td>\n",
              "      <td>2.300000</td>\n",
              "      <td>2000.000000</td>\n",
              "      <td>14.800000</td>\n",
              "      <td>0.930000</td>\n",
              "      <td>0.000000</td>\n",
              "      <td>0.000000</td>\n",
              "    </tr>\n",
              "    <tr>\n",
              "      <th>max</th>\n",
              "      <td>3556.000000</td>\n",
              "      <td>23.000000</td>\n",
              "      <td>39.400000</td>\n",
              "      <td>98.000000</td>\n",
              "      <td>7.400000</td>\n",
              "      <td>2000.000000</td>\n",
              "      <td>27.200000</td>\n",
              "      <td>3.520000</td>\n",
              "      <td>35.000000</td>\n",
              "      <td>8.800000</td>\n",
              "    </tr>\n",
              "  </tbody>\n",
              "</table>\n",
              "</div>"
            ],
            "text/plain": [
              "       Rented Bike Count         Hour  ...  Rainfall(mm)  Snowfall (cm)\n",
              "count        8760.000000  8760.000000  ...   8760.000000    8760.000000\n",
              "mean          704.602055    11.500000  ...      0.148687       0.075068\n",
              "std           644.997468     6.922582  ...      1.128193       0.436746\n",
              "min             0.000000     0.000000  ...      0.000000       0.000000\n",
              "25%           191.000000     5.750000  ...      0.000000       0.000000\n",
              "50%           504.500000    11.500000  ...      0.000000       0.000000\n",
              "75%          1065.250000    17.250000  ...      0.000000       0.000000\n",
              "max          3556.000000    23.000000  ...     35.000000       8.800000\n",
              "\n",
              "[8 rows x 10 columns]"
            ]
          },
          "metadata": {},
          "execution_count": 358
        }
      ]
    },
    {
      "cell_type": "code",
      "metadata": {
        "colab": {
          "base_uri": "https://localhost:8080/",
          "height": 363
        },
        "id": "c3AqOysdZD8q",
        "outputId": "3595c882-08ea-42c1-cf6f-32bab1393978"
      },
      "source": [
        "# correlation among the variables\n",
        "df.corr()"
      ],
      "execution_count": 359,
      "outputs": [
        {
          "output_type": "execute_result",
          "data": {
            "text/html": [
              "<div>\n",
              "<style scoped>\n",
              "    .dataframe tbody tr th:only-of-type {\n",
              "        vertical-align: middle;\n",
              "    }\n",
              "\n",
              "    .dataframe tbody tr th {\n",
              "        vertical-align: top;\n",
              "    }\n",
              "\n",
              "    .dataframe thead th {\n",
              "        text-align: right;\n",
              "    }\n",
              "</style>\n",
              "<table border=\"1\" class=\"dataframe\">\n",
              "  <thead>\n",
              "    <tr style=\"text-align: right;\">\n",
              "      <th></th>\n",
              "      <th>Rented Bike Count</th>\n",
              "      <th>Hour</th>\n",
              "      <th>Temperature(°C)</th>\n",
              "      <th>Humidity(%)</th>\n",
              "      <th>Wind speed (m/s)</th>\n",
              "      <th>Visibility (10m)</th>\n",
              "      <th>Dew point temperature(°C)</th>\n",
              "      <th>Solar Radiation (MJ/m2)</th>\n",
              "      <th>Rainfall(mm)</th>\n",
              "      <th>Snowfall (cm)</th>\n",
              "    </tr>\n",
              "  </thead>\n",
              "  <tbody>\n",
              "    <tr>\n",
              "      <th>Rented Bike Count</th>\n",
              "      <td>1.000000</td>\n",
              "      <td>0.410257</td>\n",
              "      <td>0.538558</td>\n",
              "      <td>-0.199780</td>\n",
              "      <td>0.121108</td>\n",
              "      <td>0.199280</td>\n",
              "      <td>0.379788</td>\n",
              "      <td>0.261837</td>\n",
              "      <td>-0.123074</td>\n",
              "      <td>-0.141804</td>\n",
              "    </tr>\n",
              "    <tr>\n",
              "      <th>Hour</th>\n",
              "      <td>0.410257</td>\n",
              "      <td>1.000000</td>\n",
              "      <td>0.124114</td>\n",
              "      <td>-0.241644</td>\n",
              "      <td>0.285197</td>\n",
              "      <td>0.098753</td>\n",
              "      <td>0.003054</td>\n",
              "      <td>0.145131</td>\n",
              "      <td>0.008715</td>\n",
              "      <td>-0.021516</td>\n",
              "    </tr>\n",
              "    <tr>\n",
              "      <th>Temperature(°C)</th>\n",
              "      <td>0.538558</td>\n",
              "      <td>0.124114</td>\n",
              "      <td>1.000000</td>\n",
              "      <td>0.159371</td>\n",
              "      <td>-0.036252</td>\n",
              "      <td>0.034794</td>\n",
              "      <td>0.912798</td>\n",
              "      <td>0.353505</td>\n",
              "      <td>0.050282</td>\n",
              "      <td>-0.218405</td>\n",
              "    </tr>\n",
              "    <tr>\n",
              "      <th>Humidity(%)</th>\n",
              "      <td>-0.199780</td>\n",
              "      <td>-0.241644</td>\n",
              "      <td>0.159371</td>\n",
              "      <td>1.000000</td>\n",
              "      <td>-0.336683</td>\n",
              "      <td>-0.543090</td>\n",
              "      <td>0.536894</td>\n",
              "      <td>-0.461919</td>\n",
              "      <td>0.236397</td>\n",
              "      <td>0.108183</td>\n",
              "    </tr>\n",
              "    <tr>\n",
              "      <th>Wind speed (m/s)</th>\n",
              "      <td>0.121108</td>\n",
              "      <td>0.285197</td>\n",
              "      <td>-0.036252</td>\n",
              "      <td>-0.336683</td>\n",
              "      <td>1.000000</td>\n",
              "      <td>0.171507</td>\n",
              "      <td>-0.176486</td>\n",
              "      <td>0.332274</td>\n",
              "      <td>-0.019674</td>\n",
              "      <td>-0.003554</td>\n",
              "    </tr>\n",
              "    <tr>\n",
              "      <th>Visibility (10m)</th>\n",
              "      <td>0.199280</td>\n",
              "      <td>0.098753</td>\n",
              "      <td>0.034794</td>\n",
              "      <td>-0.543090</td>\n",
              "      <td>0.171507</td>\n",
              "      <td>1.000000</td>\n",
              "      <td>-0.176630</td>\n",
              "      <td>0.149738</td>\n",
              "      <td>-0.167629</td>\n",
              "      <td>-0.121695</td>\n",
              "    </tr>\n",
              "    <tr>\n",
              "      <th>Dew point temperature(°C)</th>\n",
              "      <td>0.379788</td>\n",
              "      <td>0.003054</td>\n",
              "      <td>0.912798</td>\n",
              "      <td>0.536894</td>\n",
              "      <td>-0.176486</td>\n",
              "      <td>-0.176630</td>\n",
              "      <td>1.000000</td>\n",
              "      <td>0.094381</td>\n",
              "      <td>0.125597</td>\n",
              "      <td>-0.150887</td>\n",
              "    </tr>\n",
              "    <tr>\n",
              "      <th>Solar Radiation (MJ/m2)</th>\n",
              "      <td>0.261837</td>\n",
              "      <td>0.145131</td>\n",
              "      <td>0.353505</td>\n",
              "      <td>-0.461919</td>\n",
              "      <td>0.332274</td>\n",
              "      <td>0.149738</td>\n",
              "      <td>0.094381</td>\n",
              "      <td>1.000000</td>\n",
              "      <td>-0.074290</td>\n",
              "      <td>-0.072301</td>\n",
              "    </tr>\n",
              "    <tr>\n",
              "      <th>Rainfall(mm)</th>\n",
              "      <td>-0.123074</td>\n",
              "      <td>0.008715</td>\n",
              "      <td>0.050282</td>\n",
              "      <td>0.236397</td>\n",
              "      <td>-0.019674</td>\n",
              "      <td>-0.167629</td>\n",
              "      <td>0.125597</td>\n",
              "      <td>-0.074290</td>\n",
              "      <td>1.000000</td>\n",
              "      <td>0.008500</td>\n",
              "    </tr>\n",
              "    <tr>\n",
              "      <th>Snowfall (cm)</th>\n",
              "      <td>-0.141804</td>\n",
              "      <td>-0.021516</td>\n",
              "      <td>-0.218405</td>\n",
              "      <td>0.108183</td>\n",
              "      <td>-0.003554</td>\n",
              "      <td>-0.121695</td>\n",
              "      <td>-0.150887</td>\n",
              "      <td>-0.072301</td>\n",
              "      <td>0.008500</td>\n",
              "      <td>1.000000</td>\n",
              "    </tr>\n",
              "  </tbody>\n",
              "</table>\n",
              "</div>"
            ],
            "text/plain": [
              "                           Rented Bike Count  ...  Snowfall (cm)\n",
              "Rented Bike Count                   1.000000  ...      -0.141804\n",
              "Hour                                0.410257  ...      -0.021516\n",
              "Temperature(°C)                     0.538558  ...      -0.218405\n",
              "Humidity(%)                        -0.199780  ...       0.108183\n",
              "Wind speed (m/s)                    0.121108  ...      -0.003554\n",
              "Visibility (10m)                    0.199280  ...      -0.121695\n",
              "Dew point temperature(°C)           0.379788  ...      -0.150887\n",
              "Solar Radiation (MJ/m2)             0.261837  ...      -0.072301\n",
              "Rainfall(mm)                       -0.123074  ...       0.008500\n",
              "Snowfall (cm)                      -0.141804  ...       1.000000\n",
              "\n",
              "[10 rows x 10 columns]"
            ]
          },
          "metadata": {},
          "execution_count": 359
        }
      ]
    },
    {
      "cell_type": "code",
      "metadata": {
        "colab": {
          "base_uri": "https://localhost:8080/"
        },
        "id": "Rqx70as0ZFgd",
        "outputId": "8bd77960-f3f0-4a5f-d786-5ed5e176192d"
      },
      "source": [
        "# Looking for null values\n",
        "df.isnull().sum()"
      ],
      "execution_count": 360,
      "outputs": [
        {
          "output_type": "execute_result",
          "data": {
            "text/plain": [
              "Date                         0\n",
              "Rented Bike Count            0\n",
              "Hour                         0\n",
              "Temperature(°C)              0\n",
              "Humidity(%)                  0\n",
              "Wind speed (m/s)             0\n",
              "Visibility (10m)             0\n",
              "Dew point temperature(°C)    0\n",
              "Solar Radiation (MJ/m2)      0\n",
              "Rainfall(mm)                 0\n",
              "Snowfall (cm)                0\n",
              "Seasons                      0\n",
              "Holiday                      0\n",
              "Functioning Day              0\n",
              "dtype: int64"
            ]
          },
          "metadata": {},
          "execution_count": 360
        }
      ]
    },
    {
      "cell_type": "markdown",
      "metadata": {
        "id": "dqbV-1ch8f1N"
      },
      "source": [
        "**No null values are present in the dataset**"
      ]
    },
    {
      "cell_type": "code",
      "metadata": {
        "colab": {
          "base_uri": "https://localhost:8080/"
        },
        "id": "1QkviJleZL2A",
        "outputId": "f8fa9ffe-5218-4a26-b4c0-3d8cb6d1a191"
      },
      "source": [
        "# Creating list pf numerical features\n",
        "numeric_features=df.describe().columns\n",
        "dist_col=list(numeric_features)[1:-3]\n",
        "dist_col"
      ],
      "execution_count": 361,
      "outputs": [
        {
          "output_type": "execute_result",
          "data": {
            "text/plain": [
              "['Hour',\n",
              " 'Temperature(°C)',\n",
              " 'Humidity(%)',\n",
              " 'Wind speed (m/s)',\n",
              " 'Visibility (10m)',\n",
              " 'Dew point temperature(°C)']"
            ]
          },
          "metadata": {},
          "execution_count": 361
        }
      ]
    },
    {
      "cell_type": "code",
      "metadata": {
        "colab": {
          "base_uri": "https://localhost:8080/",
          "height": 635
        },
        "id": "lxm5fgh8br6J",
        "outputId": "3d5302be-12e7-4f33-b098-64128bcdf08d"
      },
      "source": [
        "# Let's look at the distribution of the variables using distplot\n",
        "plt.figure(figsize=(20,18))\n",
        "for i in range(len(dist_col)):\n",
        "  plt.subplot(5,2,i+1)\n",
        "  sns.distplot(df[dist_col[i]],hist=True,rug=True)"
      ],
      "execution_count": 362,
      "outputs": [
        {
          "output_type": "display_data",
          "data": {
            "image/png": "[encoded data removed]",
            "text/plain": [
              "<Figure size 1440x1296 with 6 Axes>"
            ]
          },
          "metadata": {
            "needs_background": "light"
          }
        }
      ]
    },
    {
      "cell_type": "code",
      "metadata": {
        "id": "MWIPsWA_q-uq"
      },
      "source": [
        "# Extracting month and year from the date\n",
        "frame = pd.to_datetime(df['Date'],dayfirst=True)\n",
        "df['month']= frame.dt.month\n",
        "df['year']=frame.dt.year\n"
      ],
      "execution_count": 363,
      "outputs": []
    },
    {
      "cell_type": "code",
      "metadata": {
        "colab": {
          "base_uri": "https://localhost:8080/",
          "height": 350
        },
        "id": "QBl1zIr5pD0o",
        "outputId": "6dc9df0c-ec4f-4c79-bbe4-f086cad6dab9"
      },
      "source": [
        "# Bar plot\n",
        "plt.figure(figsize=(12,5))\n",
        "sns.barplot(x='month',y='Rented Bike Count',data=df)\n",
        "plt.title('Number of bikes rented across months')\n",
        "plt.show()"
      ],
      "execution_count": 364,
      "outputs": [
        {
          "output_type": "display_data",
          "data": {
            "image/png": "[encoded data removed]",
            "text/plain": [
              "<Figure size 864x360 with 1 Axes>"
            ]
          },
          "metadata": {
            "needs_background": "light"
          }
        }
      ]
    },
    {
      "cell_type": "markdown",
      "metadata": {
        "id": "myBdaAatl2ze"
      },
      "source": [
        "**June month has the highest rented bike count**"
      ]
    },
    {
      "cell_type": "code",
      "metadata": {
        "colab": {
          "base_uri": "https://localhost:8080/",
          "height": 404
        },
        "id": "ad1kNglB-Lu3",
        "outputId": "10ca0d12-7e3d-4520-949d-75f5a37f1cce"
      },
      "source": [
        "# bar plot\n",
        "plt.figure(figsize=(15,6))\n",
        "sns.barplot(x='Hour',y='Rented Bike Count',data=df,palette='rocket')\n",
        "plt.title('Number of bikes rented across hours of a day')\n",
        "plt.show()"
      ],
      "execution_count": 365,
      "outputs": [
        {
          "output_type": "display_data",
          "data": {
            "image/png": "[encoded data removed]",
            "text/plain": [
              "<Figure size 1080x432 with 1 Axes>"
            ]
          },
          "metadata": {
            "needs_background": "light"
          }
        }
      ]
    },
    {
      "cell_type": "markdown",
      "metadata": {
        "id": "NZzvkTrJmXZP"
      },
      "source": [
        "**6 pm is the busiest time of the day for bike rental company as more customers rent bike during that time**"
      ]
    },
    {
      "cell_type": "code",
      "metadata": {
        "colab": {
          "base_uri": "https://localhost:8080/",
          "height": 350
        },
        "id": "fC5PwRGGB786",
        "outputId": "bbf5d8c5-7d08-43ac-8293-7e40babeede8"
      },
      "source": [
        "# bar plot\n",
        "plt.figure(figsize=(10,5))\n",
        "sns.barplot(x='Seasons',y='Rented Bike Count',data=df,estimator=sum,palette='hls')\n",
        "plt.title('Number of bikes rented across seasons')\n",
        "plt.show()"
      ],
      "execution_count": 366,
      "outputs": [
        {
          "output_type": "display_data",
          "data": {
            "image/png": "[encoded data removed]",
            "text/plain": [
              "<Figure size 720x360 with 1 Axes>"
            ]
          },
          "metadata": {
            "needs_background": "light"
          }
        }
      ]
    },
    {
      "cell_type": "markdown",
      "metadata": {
        "id": "2_ZSsP5hm9Hm"
      },
      "source": [
        "**Summer Season has the highest rented bike count on average**"
      ]
    },
    {
      "cell_type": "code",
      "metadata": {
        "colab": {
          "base_uri": "https://localhost:8080/",
          "height": 312
        },
        "id": "tvkUKmeJ3yMx",
        "outputId": "cf389041-ebab-4e23-ed22-d9a9d5a25018"
      },
      "source": [
        "# lineplot\n",
        "sns.lineplot(data=df,x=df['Temperature(°C)'],y=df['Rented Bike Count'])\n",
        "plt.title('Plot of temperature against rented bike count')"
      ],
      "execution_count": 367,
      "outputs": [
        {
          "output_type": "execute_result",
          "data": {
            "text/plain": [
              "Text(0.5, 1.0, 'Plot of temperature against rented bike count')"
            ]
          },
          "metadata": {},
          "execution_count": 367
        },
        {
          "output_type": "display_data",
          "data": {
            "image/png": "[encoded data removed]",
            "text/plain": [
              "<Figure size 432x288 with 1 Axes>"
            ]
          },
          "metadata": {
            "needs_background": "light"
          }
        }
      ]
    },
    {
      "cell_type": "markdown",
      "metadata": {
        "id": "iqhWIRTxnMMx"
      },
      "source": [
        "**Temperature between 20 and 30 (°C) is when more number of bikes are rented**"
      ]
    },
    {
      "cell_type": "code",
      "metadata": {
        "colab": {
          "base_uri": "https://localhost:8080/",
          "height": 312
        },
        "id": "4Rq0ykiqBrEj",
        "outputId": "ff9b5747-9493-4131-c512-653e89891182"
      },
      "source": [
        "#lineplot\n",
        "sns.lineplot(data=df,x=df['Dew point temperature(°C)'],y=df['Rented Bike Count'],estimator='sum',hue='Seasons',style='Seasons')\n",
        "plt.title('Plot of Dew point temperature against rented bike count')"
      ],
      "execution_count": 368,
      "outputs": [
        {
          "output_type": "execute_result",
          "data": {
            "text/plain": [
              "Text(0.5, 1.0, 'Plot of Dew point temperature against rented bike count')"
            ]
          },
          "metadata": {},
          "execution_count": 368
        },
        {
          "output_type": "display_data",
          "data": {
            "image/png": "[encoded data removed]",
            "text/plain": [
              "<Figure size 432x288 with 1 Axes>"
            ]
          },
          "metadata": {
            "needs_background": "light"
          }
        }
      ]
    },
    {
      "cell_type": "markdown",
      "metadata": {
        "id": "bogJt2L487-Z"
      },
      "source": [
        "# **Checking for outliers using box plot**"
      ]
    },
    {
      "cell_type": "code",
      "metadata": {
        "colab": {
          "base_uri": "https://localhost:8080/",
          "height": 282
        },
        "id": "GbtrO-7wgMnZ",
        "outputId": "49c59b49-e12f-4574-f2b8-1f25715dd457"
      },
      "source": [
        "df.Hour.plot.box()"
      ],
      "execution_count": 369,
      "outputs": [
        {
          "output_type": "execute_result",
          "data": {
            "text/plain": [
              "<matplotlib.axes._subplots.AxesSubplot at 0x7efff946c3d0>"
            ]
          },
          "metadata": {},
          "execution_count": 369
        },
        {
          "output_type": "display_data",
          "data": {
            "image/png": "[encoded data removed]",
            "text/plain": [
              "<Figure size 432x288 with 1 Axes>"
            ]
          },
          "metadata": {
            "needs_background": "light"
          }
        }
      ]
    },
    {
      "cell_type": "code",
      "metadata": {
        "colab": {
          "base_uri": "https://localhost:8080/",
          "height": 282
        },
        "id": "IzbJMoUQhwW6",
        "outputId": "849911c0-1f7b-4318-e399-578a7a00ca73"
      },
      "source": [
        "df['Temperature(°C)'].plot.box()"
      ],
      "execution_count": 370,
      "outputs": [
        {
          "output_type": "execute_result",
          "data": {
            "text/plain": [
              "<matplotlib.axes._subplots.AxesSubplot at 0x7efff9438090>"
            ]
          },
          "metadata": {},
          "execution_count": 370
        },
        {
          "output_type": "display_data",
          "data": {
            "image/png": "[encoded data removed]",
            "text/plain": [
              "<Figure size 432x288 with 1 Axes>"
            ]
          },
          "metadata": {
            "needs_background": "light"
          }
        }
      ]
    },
    {
      "cell_type": "code",
      "metadata": {
        "colab": {
          "base_uri": "https://localhost:8080/",
          "height": 282
        },
        "id": "S1B0sXd9i_NO",
        "outputId": "ec92a1da-75bb-410d-cebc-ed2087d12495"
      },
      "source": [
        "df['Humidity(%)'].plot.box()"
      ],
      "execution_count": 371,
      "outputs": [
        {
          "output_type": "execute_result",
          "data": {
            "text/plain": [
              "<matplotlib.axes._subplots.AxesSubplot at 0x7efff93fd190>"
            ]
          },
          "metadata": {},
          "execution_count": 371
        },
        {
          "output_type": "display_data",
          "data": {
            "image/png": "[encoded data removed]",
            "text/plain": [
              "<Figure size 432x288 with 1 Axes>"
            ]
          },
          "metadata": {
            "needs_background": "light"
          }
        }
      ]
    },
    {
      "cell_type": "code",
      "metadata": {
        "colab": {
          "base_uri": "https://localhost:8080/",
          "height": 286
        },
        "id": "dlnwkTiEjHlK",
        "outputId": "a025b3f4-7e1f-4d9f-f9ad-f1c114694c23"
      },
      "source": [
        "df['Dew point temperature(°C)'].plot.box()"
      ],
      "execution_count": 372,
      "outputs": [
        {
          "output_type": "execute_result",
          "data": {
            "text/plain": [
              "<matplotlib.axes._subplots.AxesSubplot at 0x7efff93819d0>"
            ]
          },
          "metadata": {},
          "execution_count": 372
        },
        {
          "output_type": "display_data",
          "data": {
            "image/png": "[encoded data removed]",
            "text/plain": [
              "<Figure size 432x288 with 1 Axes>"
            ]
          },
          "metadata": {
            "needs_background": "light"
          }
        }
      ]
    },
    {
      "cell_type": "code",
      "metadata": {
        "colab": {
          "base_uri": "https://localhost:8080/",
          "height": 282
        },
        "id": "WwDOkm3Fjazc",
        "outputId": "eaa8878f-9ed4-4aeb-b446-fc3b64180216"
      },
      "source": [
        "df['Wind speed (m/s)'].plot.box()"
      ],
      "execution_count": 373,
      "outputs": [
        {
          "output_type": "execute_result",
          "data": {
            "text/plain": [
              "<matplotlib.axes._subplots.AxesSubplot at 0x7efff92f7790>"
            ]
          },
          "metadata": {},
          "execution_count": 373
        },
        {
          "output_type": "display_data",
          "data": {
            "image/png": "[encoded data removed]",
            "text/plain": [
              "<Figure size 432x288 with 1 Axes>"
            ]
          },
          "metadata": {
            "needs_background": "light"
          }
        }
      ]
    },
    {
      "cell_type": "code",
      "metadata": {
        "colab": {
          "base_uri": "https://localhost:8080/",
          "height": 282
        },
        "id": "9jaqDnIxjpQx",
        "outputId": "8a76bdd2-c1d2-4c83-c56a-70dd3623bd0e"
      },
      "source": [
        "df['Visibility (10m)'].plot.box()"
      ],
      "execution_count": 374,
      "outputs": [
        {
          "output_type": "execute_result",
          "data": {
            "text/plain": [
              "<matplotlib.axes._subplots.AxesSubplot at 0x7efff925b4d0>"
            ]
          },
          "metadata": {},
          "execution_count": 374
        },
        {
          "output_type": "display_data",
          "data": {
            "image/png": "[encoded data removed]",
            "text/plain": [
              "<Figure size 432x288 with 1 Axes>"
            ]
          },
          "metadata": {
            "needs_background": "light"
          }
        }
      ]
    },
    {
      "cell_type": "code",
      "metadata": {
        "colab": {
          "base_uri": "https://localhost:8080/",
          "height": 282
        },
        "id": "P3QK0l2mjzAL",
        "outputId": "c0e5bdc3-afc4-4062-e47e-797a8f3b844d"
      },
      "source": [
        "df['Solar Radiation (MJ/m2)'].plot.box()"
      ],
      "execution_count": 375,
      "outputs": [
        {
          "output_type": "execute_result",
          "data": {
            "text/plain": [
              "<matplotlib.axes._subplots.AxesSubplot at 0x7efff924bc90>"
            ]
          },
          "metadata": {},
          "execution_count": 375
        },
        {
          "output_type": "display_data",
          "data": {
            "image/png": "[encoded data removed]",
            "text/plain": [
              "<Figure size 432x288 with 1 Axes>"
            ]
          },
          "metadata": {
            "needs_background": "light"
          }
        }
      ]
    },
    {
      "cell_type": "code",
      "metadata": {
        "colab": {
          "base_uri": "https://localhost:8080/",
          "height": 282
        },
        "id": "Yhx0kzc_kAtU",
        "outputId": "5d78a227-b729-4b83-c07d-e6c0d27084eb"
      },
      "source": [
        "df['Rainfall(mm)'].plot.box()"
      ],
      "execution_count": 376,
      "outputs": [
        {
          "output_type": "execute_result",
          "data": {
            "text/plain": [
              "<matplotlib.axes._subplots.AxesSubplot at 0x7efff9622fd0>"
            ]
          },
          "metadata": {},
          "execution_count": 376
        },
        {
          "output_type": "display_data",
          "data": {
            "image/png": "[encoded data removed]",
            "text/plain": [
              "<Figure size 432x288 with 1 Axes>"
            ]
          },
          "metadata": {
            "needs_background": "light"
          }
        }
      ]
    },
    {
      "cell_type": "code",
      "metadata": {
        "colab": {
          "base_uri": "https://localhost:8080/",
          "height": 282
        },
        "id": "PKEwRvN5kQjS",
        "outputId": "0497a660-4901-4f6f-f9f8-79a20fc06ee4"
      },
      "source": [
        "df['Snowfall (cm)'].plot.box()"
      ],
      "execution_count": 377,
      "outputs": [
        {
          "output_type": "execute_result",
          "data": {
            "text/plain": [
              "<matplotlib.axes._subplots.AxesSubplot at 0x7efff96732d0>"
            ]
          },
          "metadata": {},
          "execution_count": 377
        },
        {
          "output_type": "display_data",
          "data": {
            "image/png": "[encoded data removed]",
            "text/plain": [
              "<Figure size 432x288 with 1 Axes>"
            ]
          },
          "metadata": {
            "needs_background": "light"
          }
        }
      ]
    },
    {
      "cell_type": "code",
      "metadata": {
        "id": "rnXZmhnd75yt"
      },
      "source": [
        "# Outlier treatment\n",
        "df['Rainfall(mm)']=np.log10(df['Rainfall(mm)']+1)\n",
        "df['Snowfall (cm)']=np.log10(df['Snowfall (cm)']+1)"
      ],
      "execution_count": 378,
      "outputs": []
    },
    {
      "cell_type": "code",
      "metadata": {
        "colab": {
          "base_uri": "https://localhost:8080/",
          "height": 206
        },
        "id": "cqmmzEuBzVx-",
        "outputId": "0313933f-4149-4e2d-b02b-9d66e9c8f2ef"
      },
      "source": [
        "df.head()"
      ],
      "execution_count": 379,
      "outputs": [
        {
          "output_type": "execute_result",
          "data": {
            "text/html": [
              "<div>\n",
              "<style scoped>\n",
              "    .dataframe tbody tr th:only-of-type {\n",
              "        vertical-align: middle;\n",
              "    }\n",
              "\n",
              "    .dataframe tbody tr th {\n",
              "        vertical-align: top;\n",
              "    }\n",
              "\n",
              "    .dataframe thead th {\n",
              "        text-align: right;\n",
              "    }\n",
              "</style>\n",
              "<table border=\"1\" class=\"dataframe\">\n",
              "  <thead>\n",
              "    <tr style=\"text-align: right;\">\n",
              "      <th></th>\n",
              "      <th>Date</th>\n",
              "      <th>Rented Bike Count</th>\n",
              "      <th>Hour</th>\n",
              "      <th>Temperature(°C)</th>\n",
              "      <th>Humidity(%)</th>\n",
              "      <th>Wind speed (m/s)</th>\n",
              "      <th>Visibility (10m)</th>\n",
              "      <th>Dew point temperature(°C)</th>\n",
              "      <th>Solar Radiation (MJ/m2)</th>\n",
              "      <th>Rainfall(mm)</th>\n",
              "      <th>Snowfall (cm)</th>\n",
              "      <th>Seasons</th>\n",
              "      <th>Holiday</th>\n",
              "      <th>Functioning Day</th>\n",
              "      <th>month</th>\n",
              "      <th>year</th>\n",
              "    </tr>\n",
              "  </thead>\n",
              "  <tbody>\n",
              "    <tr>\n",
              "      <th>0</th>\n",
              "      <td>01/12/2017</td>\n",
              "      <td>254</td>\n",
              "      <td>0</td>\n",
              "      <td>-5.2</td>\n",
              "      <td>37</td>\n",
              "      <td>2.2</td>\n",
              "      <td>2000</td>\n",
              "      <td>-17.6</td>\n",
              "      <td>0.0</td>\n",
              "      <td>0.0</td>\n",
              "      <td>0.0</td>\n",
              "      <td>Winter</td>\n",
              "      <td>No Holiday</td>\n",
              "      <td>Yes</td>\n",
              "      <td>12</td>\n",
              "      <td>2017</td>\n",
              "    </tr>\n",
              "    <tr>\n",
              "      <th>1</th>\n",
              "      <td>01/12/2017</td>\n",
              "      <td>204</td>\n",
              "      <td>1</td>\n",
              "      <td>-5.5</td>\n",
              "      <td>38</td>\n",
              "      <td>0.8</td>\n",
              "      <td>2000</td>\n",
              "      <td>-17.6</td>\n",
              "      <td>0.0</td>\n",
              "      <td>0.0</td>\n",
              "      <td>0.0</td>\n",
              "      <td>Winter</td>\n",
              "      <td>No Holiday</td>\n",
              "      <td>Yes</td>\n",
              "      <td>12</td>\n",
              "      <td>2017</td>\n",
              "    </tr>\n",
              "    <tr>\n",
              "      <th>2</th>\n",
              "      <td>01/12/2017</td>\n",
              "      <td>173</td>\n",
              "      <td>2</td>\n",
              "      <td>-6.0</td>\n",
              "      <td>39</td>\n",
              "      <td>1.0</td>\n",
              "      <td>2000</td>\n",
              "      <td>-17.7</td>\n",
              "      <td>0.0</td>\n",
              "      <td>0.0</td>\n",
              "      <td>0.0</td>\n",
              "      <td>Winter</td>\n",
              "      <td>No Holiday</td>\n",
              "      <td>Yes</td>\n",
              "      <td>12</td>\n",
              "      <td>2017</td>\n",
              "    </tr>\n",
              "    <tr>\n",
              "      <th>3</th>\n",
              "      <td>01/12/2017</td>\n",
              "      <td>107</td>\n",
              "      <td>3</td>\n",
              "      <td>-6.2</td>\n",
              "      <td>40</td>\n",
              "      <td>0.9</td>\n",
              "      <td>2000</td>\n",
              "      <td>-17.6</td>\n",
              "      <td>0.0</td>\n",
              "      <td>0.0</td>\n",
              "      <td>0.0</td>\n",
              "      <td>Winter</td>\n",
              "      <td>No Holiday</td>\n",
              "      <td>Yes</td>\n",
              "      <td>12</td>\n",
              "      <td>2017</td>\n",
              "    </tr>\n",
              "    <tr>\n",
              "      <th>4</th>\n",
              "      <td>01/12/2017</td>\n",
              "      <td>78</td>\n",
              "      <td>4</td>\n",
              "      <td>-6.0</td>\n",
              "      <td>36</td>\n",
              "      <td>2.3</td>\n",
              "      <td>2000</td>\n",
              "      <td>-18.6</td>\n",
              "      <td>0.0</td>\n",
              "      <td>0.0</td>\n",
              "      <td>0.0</td>\n",
              "      <td>Winter</td>\n",
              "      <td>No Holiday</td>\n",
              "      <td>Yes</td>\n",
              "      <td>12</td>\n",
              "      <td>2017</td>\n",
              "    </tr>\n",
              "  </tbody>\n",
              "</table>\n",
              "</div>"
            ],
            "text/plain": [
              "         Date  Rented Bike Count  Hour  ...  Functioning Day  month  year\n",
              "0  01/12/2017                254     0  ...              Yes     12  2017\n",
              "1  01/12/2017                204     1  ...              Yes     12  2017\n",
              "2  01/12/2017                173     2  ...              Yes     12  2017\n",
              "3  01/12/2017                107     3  ...              Yes     12  2017\n",
              "4  01/12/2017                 78     4  ...              Yes     12  2017\n",
              "\n",
              "[5 rows x 16 columns]"
            ]
          },
          "metadata": {},
          "execution_count": 379
        }
      ]
    },
    {
      "cell_type": "code",
      "metadata": {
        "colab": {
          "base_uri": "https://localhost:8080/"
        },
        "id": "ZP_CRH0DzZQU",
        "outputId": "a1f990a6-89e1-4c91-bbbf-c650d588625c"
      },
      "source": [
        "# unique values of seasons column\n",
        "df.Seasons.unique()"
      ],
      "execution_count": 380,
      "outputs": [
        {
          "output_type": "execute_result",
          "data": {
            "text/plain": [
              "array(['Winter', 'Spring', 'Summer', 'Autumn'], dtype=object)"
            ]
          },
          "metadata": {},
          "execution_count": 380
        }
      ]
    },
    {
      "cell_type": "code",
      "metadata": {
        "colab": {
          "base_uri": "https://localhost:8080/"
        },
        "id": "JlTJ8Y8wzju0",
        "outputId": "b3ceb64e-d514-4408-f5c5-57056850b8df"
      },
      "source": [
        "# unique values of holiday column\n",
        "df.Holiday.unique()"
      ],
      "execution_count": 381,
      "outputs": [
        {
          "output_type": "execute_result",
          "data": {
            "text/plain": [
              "array(['No Holiday', 'Holiday'], dtype=object)"
            ]
          },
          "metadata": {},
          "execution_count": 381
        }
      ]
    },
    {
      "cell_type": "code",
      "metadata": {
        "colab": {
          "base_uri": "https://localhost:8080/"
        },
        "id": "nlPosBt-zn7W",
        "outputId": "dcc4d970-76e6-457c-c3ae-65b2a366dbfd"
      },
      "source": [
        "# unique value of functioning day column\n",
        "df['Functioning Day'].unique()"
      ],
      "execution_count": 382,
      "outputs": [
        {
          "output_type": "execute_result",
          "data": {
            "text/plain": [
              "array(['Yes', 'No'], dtype=object)"
            ]
          },
          "metadata": {},
          "execution_count": 382
        }
      ]
    },
    {
      "cell_type": "code",
      "metadata": {
        "id": "FSYrY3uH9tGr"
      },
      "source": [
        "# Preparing the data to scale down\n",
        "newdf=df.drop(['Rented Bike Count','Date'],axis=1)"
      ],
      "execution_count": 383,
      "outputs": []
    },
    {
      "cell_type": "code",
      "metadata": {
        "id": "GUvsqTcslSv8"
      },
      "source": [
        "# Label encoding using lambda function\n",
        "from sklearn.preprocessing import LabelEncoder\n",
        "newdf['Holiday']=newdf['Holiday'].apply(lambda x:0 if x=='No Holiday' else 1)\n",
        "newdf['Functioning Day']=newdf['Functioning Day'].apply(lambda x:0 if x=='No' else 1)\n",
        "labelencoder=LabelEncoder()\n",
        "newdf['Seasons']=labelencoder.fit_transform(newdf['Seasons'])"
      ],
      "execution_count": 384,
      "outputs": []
    },
    {
      "cell_type": "code",
      "metadata": {
        "id": "A_K11IbT-rDB"
      },
      "source": [
        "# Scaling down the data\n",
        "from sklearn.preprocessing import StandardScaler\n",
        "mm=StandardScaler()\n",
        "df1=mm.fit_transform(newdf)\n",
        "df1=pd.DataFrame(df1,columns=list(newdf.columns))\n",
        "df1['Date']=df['Date']\n",
        "df1['Rented Bike Count']=df['Rented Bike Count']\n",
        "df1 = df1.dropna(axis=0, how='any', thresh=None, subset=None, inplace=False)\n",
        "\n"
      ],
      "execution_count": 385,
      "outputs": []
    },
    {
      "cell_type": "code",
      "metadata": {
        "colab": {
          "base_uri": "https://localhost:8080/",
          "height": 738
        },
        "id": "k69P1IbQ9VRY",
        "outputId": "44f85575-6af9-4455-fc34-b03c0a662fec"
      },
      "source": [
        "# Heatmap to see the correlation among the variables\n",
        "plt.figure(figsize=(15,10))\n",
        "correlation = df.corr()\n",
        "sns.heatmap(correlation, annot=True, cmap='coolwarm')"
      ],
      "execution_count": 386,
      "outputs": [
        {
          "output_type": "execute_result",
          "data": {
            "text/plain": [
              "<matplotlib.axes._subplots.AxesSubplot at 0x7f00113809d0>"
            ]
          },
          "metadata": {},
          "execution_count": 386
        },
        {
          "output_type": "display_data",
          "data": {
            "image/png": "[encoded data removed]",
            "text/plain": [
              "<Figure size 1080x720 with 2 Axes>"
            ]
          },
          "metadata": {
            "needs_background": "light"
          }
        }
      ]
    },
    {
      "cell_type": "markdown",
      "metadata": {
        "id": "3dJgCVznGAAZ"
      },
      "source": [
        "\n",
        "# ***Modelling***\n"
      ]
    },
    {
      "cell_type": "code",
      "metadata": {
        "id": "Q02s7eMeAcho"
      },
      "source": [
        "#Importing libraries needed for modelling\n",
        "from sklearn.model_selection import train_test_split\n",
        "from sklearn import preprocessing\n",
        "from sklearn.metrics import r2_score,mean_squared_error\n",
        "from sklearn.model_selection import GridSearchCV\n",
        "from sklearn.neighbors import KNeighborsRegressor\n",
        "from sklearn.tree import DecisionTreeRegressor\n",
        "from sklearn.ensemble import RandomForestRegressor"
      ],
      "execution_count": 387,
      "outputs": []
    },
    {
      "cell_type": "code",
      "metadata": {
        "colab": {
          "base_uri": "https://localhost:8080/",
          "height": 224
        },
        "id": "S9tIDoWQMB4s",
        "outputId": "2f139644-09ec-43fc-c414-94d98a2dd801"
      },
      "source": [
        "df1.head()"
      ],
      "execution_count": 388,
      "outputs": [
        {
          "output_type": "execute_result",
          "data": {
            "text/html": [
              "<div>\n",
              "<style scoped>\n",
              "    .dataframe tbody tr th:only-of-type {\n",
              "        vertical-align: middle;\n",
              "    }\n",
              "\n",
              "    .dataframe tbody tr th {\n",
              "        vertical-align: top;\n",
              "    }\n",
              "\n",
              "    .dataframe thead th {\n",
              "        text-align: right;\n",
              "    }\n",
              "</style>\n",
              "<table border=\"1\" class=\"dataframe\">\n",
              "  <thead>\n",
              "    <tr style=\"text-align: right;\">\n",
              "      <th></th>\n",
              "      <th>Hour</th>\n",
              "      <th>Temperature(°C)</th>\n",
              "      <th>Humidity(%)</th>\n",
              "      <th>Wind speed (m/s)</th>\n",
              "      <th>Visibility (10m)</th>\n",
              "      <th>Dew point temperature(°C)</th>\n",
              "      <th>Solar Radiation (MJ/m2)</th>\n",
              "      <th>Rainfall(mm)</th>\n",
              "      <th>Snowfall (cm)</th>\n",
              "      <th>Seasons</th>\n",
              "      <th>Holiday</th>\n",
              "      <th>Functioning Day</th>\n",
              "      <th>month</th>\n",
              "      <th>year</th>\n",
              "      <th>Date</th>\n",
              "      <th>Rented Bike Count</th>\n",
              "    </tr>\n",
              "  </thead>\n",
              "  <tbody>\n",
              "    <tr>\n",
              "      <th>0</th>\n",
              "      <td>-1.661325</td>\n",
              "      <td>-1.513957</td>\n",
              "      <td>-1.042483</td>\n",
              "      <td>0.458476</td>\n",
              "      <td>0.925871</td>\n",
              "      <td>-1.659605</td>\n",
              "      <td>-0.655132</td>\n",
              "      <td>-0.198745</td>\n",
              "      <td>-0.200251</td>\n",
              "      <td>1.349771</td>\n",
              "      <td>-0.227757</td>\n",
              "      <td>0.18668</td>\n",
              "      <td>1.587648</td>\n",
              "      <td>-3.282407</td>\n",
              "      <td>01/12/2017</td>\n",
              "      <td>254</td>\n",
              "    </tr>\n",
              "    <tr>\n",
              "      <th>1</th>\n",
              "      <td>-1.516862</td>\n",
              "      <td>-1.539074</td>\n",
              "      <td>-0.993370</td>\n",
              "      <td>-0.892561</td>\n",
              "      <td>0.925871</td>\n",
              "      <td>-1.659605</td>\n",
              "      <td>-0.655132</td>\n",
              "      <td>-0.198745</td>\n",
              "      <td>-0.200251</td>\n",
              "      <td>1.349771</td>\n",
              "      <td>-0.227757</td>\n",
              "      <td>0.18668</td>\n",
              "      <td>1.587648</td>\n",
              "      <td>-3.282407</td>\n",
              "      <td>01/12/2017</td>\n",
              "      <td>204</td>\n",
              "    </tr>\n",
              "    <tr>\n",
              "      <th>2</th>\n",
              "      <td>-1.372399</td>\n",
              "      <td>-1.580936</td>\n",
              "      <td>-0.944257</td>\n",
              "      <td>-0.699556</td>\n",
              "      <td>0.925871</td>\n",
              "      <td>-1.667262</td>\n",
              "      <td>-0.655132</td>\n",
              "      <td>-0.198745</td>\n",
              "      <td>-0.200251</td>\n",
              "      <td>1.349771</td>\n",
              "      <td>-0.227757</td>\n",
              "      <td>0.18668</td>\n",
              "      <td>1.587648</td>\n",
              "      <td>-3.282407</td>\n",
              "      <td>01/12/2017</td>\n",
              "      <td>173</td>\n",
              "    </tr>\n",
              "    <tr>\n",
              "      <th>3</th>\n",
              "      <td>-1.227936</td>\n",
              "      <td>-1.597680</td>\n",
              "      <td>-0.895144</td>\n",
              "      <td>-0.796059</td>\n",
              "      <td>0.925871</td>\n",
              "      <td>-1.659605</td>\n",
              "      <td>-0.655132</td>\n",
              "      <td>-0.198745</td>\n",
              "      <td>-0.200251</td>\n",
              "      <td>1.349771</td>\n",
              "      <td>-0.227757</td>\n",
              "      <td>0.18668</td>\n",
              "      <td>1.587648</td>\n",
              "      <td>-3.282407</td>\n",
              "      <td>01/12/2017</td>\n",
              "      <td>107</td>\n",
              "    </tr>\n",
              "    <tr>\n",
              "      <th>4</th>\n",
              "      <td>-1.083473</td>\n",
              "      <td>-1.580936</td>\n",
              "      <td>-1.091596</td>\n",
              "      <td>0.554978</td>\n",
              "      <td>0.925871</td>\n",
              "      <td>-1.736177</td>\n",
              "      <td>-0.655132</td>\n",
              "      <td>-0.198745</td>\n",
              "      <td>-0.200251</td>\n",
              "      <td>1.349771</td>\n",
              "      <td>-0.227757</td>\n",
              "      <td>0.18668</td>\n",
              "      <td>1.587648</td>\n",
              "      <td>-3.282407</td>\n",
              "      <td>01/12/2017</td>\n",
              "      <td>78</td>\n",
              "    </tr>\n",
              "  </tbody>\n",
              "</table>\n",
              "</div>"
            ],
            "text/plain": [
              "       Hour  Temperature(°C)  ...        Date  Rented Bike Count\n",
              "0 -1.661325        -1.513957  ...  01/12/2017                254\n",
              "1 -1.516862        -1.539074  ...  01/12/2017                204\n",
              "2 -1.372399        -1.580936  ...  01/12/2017                173\n",
              "3 -1.227936        -1.597680  ...  01/12/2017                107\n",
              "4 -1.083473        -1.580936  ...  01/12/2017                 78\n",
              "\n",
              "[5 rows x 16 columns]"
            ]
          },
          "metadata": {},
          "execution_count": 388
        }
      ]
    },
    {
      "cell_type": "code",
      "metadata": {
        "id": "bJGWSpXRGk-p"
      },
      "source": [
        "# Splitting the data into train and test\n",
        "X=df1.drop(['Rented Bike Count','Date','Wind speed (m/s)','month','year'],axis =1)\n",
        "y=df1.iloc[:,-1] #the target\n",
        "X_train,X_test,y_train,y_test=train_test_split(X,y,test_size=0.25)\n",
        "score_result2={'Model':[],'Train R2 score':[],'Test R2 score':[]}"
      ],
      "execution_count": 389,
      "outputs": []
    },
    {
      "cell_type": "markdown",
      "metadata": {
        "id": "wMgk2rA2nJyU"
      },
      "source": [
        "### Support Vector Regressor Model"
      ]
    },
    {
      "cell_type": "code",
      "metadata": {
        "colab": {
          "base_uri": "https://localhost:8080/"
        },
        "id": "Cwj5vM3YKwJb",
        "outputId": "05bb8c42-7179-4ca9-d3c1-50df3e5e77c4"
      },
      "source": [
        "# Applying Support Vector Regressor Algorithm\n",
        "from sklearn.svm import SVR\n",
        "svr_Model = SVR(C = 3000).fit(X_train, y_train)\n",
        "r2_train_svr = svr_Model.score(X_train, y_train)\n",
        "r2_test_svr=svr_Model.score(X_test, y_test)\n",
        "r2_test_svr,r2_train_svr\n"
      ],
      "execution_count": 390,
      "outputs": [
        {
          "output_type": "execute_result",
          "data": {
            "text/plain": [
              "(0.805685449311165, 0.8083152262332777)"
            ]
          },
          "metadata": {},
          "execution_count": 390
        }
      ]
    },
    {
      "cell_type": "code",
      "metadata": {
        "colab": {
          "base_uri": "https://localhost:8080/"
        },
        "id": "yRrAfTOiLFSw",
        "outputId": "69811864-4838-453d-dbfc-7f7ebee92e5c"
      },
      "source": [
        "# Hyper parameter tuning\n",
        "svr_Model=SVR()\n",
        "\n",
        "param = {'C' : [2000,3000,4000,5000],'kernel':['rbf','cbf']}\n",
        "\n",
        "gridSearchSVR=GridSearchCV(svr_Model,param,scoring='r2',cv=5)\n",
        "gridSearchSVR.fit(X_train,y_train)\n",
        "\n",
        "svr_optimal_model=gridSearchSVR.best_estimator_\n",
        "gridSearchSVR.best_params_"
      ],
      "execution_count": 391,
      "outputs": [
        {
          "output_type": "execute_result",
          "data": {
            "text/plain": [
              "{'C': 5000, 'kernel': 'rbf'}"
            ]
          },
          "metadata": {},
          "execution_count": 391
        }
      ]
    },
    {
      "cell_type": "code",
      "metadata": {
        "colab": {
          "base_uri": "https://localhost:8080/"
        },
        "id": "cg9uMjMhM5xV",
        "outputId": "d4c7c90f-7b6c-4f2a-f5fe-b3392990f794"
      },
      "source": [
        "# Making predictions on train and test data\n",
        "\n",
        "svr_train_class_preds = svr_optimal_model.predict(X_train)\n",
        "svr_test_class_preds = svr_optimal_model.predict(X_test)\n",
        "svr_r2_train=r2_score(y_train,svr_train_class_preds)\n",
        "svr_r2_test=r2_score(y_test,svr_test_class_preds)\n",
        "print('Train R2 score of optimal SVR model is' ,round(svr_r2_train*100,2))\n",
        "print('Test R2 score of optimal SVR model is' ,round(svr_r2_test*100,2))\n",
        "score_result2['Model'].append('SVM Regressor')\n",
        "score_result2['Train R2 score'].append(round(svr_r2_train*100,2))\n",
        "score_result2['Test R2 score'].append(round(svr_r2_test*100,2))\n"
      ],
      "execution_count": 392,
      "outputs": [
        {
          "output_type": "stream",
          "name": "stdout",
          "text": [
            "Train R2 score of optimal SVR model is 81.78\n",
            "Test R2 score of optimal SVR model is 81.24\n"
          ]
        }
      ]
    },
    {
      "cell_type": "markdown",
      "metadata": {
        "id": "g6ZN4EjXnc9L"
      },
      "source": [
        "### KNN Model"
      ]
    },
    {
      "cell_type": "code",
      "metadata": {
        "id": "yRyWizKBBe5n"
      },
      "source": [
        "knn = KNeighborsRegressor(n_neighbors=18)"
      ],
      "execution_count": 393,
      "outputs": []
    },
    {
      "cell_type": "code",
      "metadata": {
        "colab": {
          "base_uri": "https://localhost:8080/"
        },
        "id": "ItfPAOnTC1Kt",
        "outputId": "44f46a2c-a506-40b1-a58a-076df3728f0d"
      },
      "source": [
        "# Fitting the model\n",
        "knn.fit(X_train,y_train)"
      ],
      "execution_count": 394,
      "outputs": [
        {
          "output_type": "execute_result",
          "data": {
            "text/plain": [
              "KNeighborsRegressor(algorithm='auto', leaf_size=30, metric='minkowski',\n",
              "                    metric_params=None, n_jobs=None, n_neighbors=18, p=2,\n",
              "                    weights='uniform')"
            ]
          },
          "metadata": {},
          "execution_count": 394
        }
      ]
    },
    {
      "cell_type": "code",
      "metadata": {
        "id": "_FauaFVoDD1F",
        "colab": {
          "base_uri": "https://localhost:8080/"
        },
        "outputId": "ccb18b6b-0aa3-4a54-c98b-a5e440b5fd00"
      },
      "source": [
        "# Predicting the values of y_test \n",
        "y_pred = knn.predict(X_test)\n",
        "knn.score(X_test,y_test)"
      ],
      "execution_count": 395,
      "outputs": [
        {
          "output_type": "execute_result",
          "data": {
            "text/plain": [
              "0.7869531120190739"
            ]
          },
          "metadata": {},
          "execution_count": 395
        }
      ]
    },
    {
      "cell_type": "code",
      "metadata": {
        "id": "D83zf0bEDN1E"
      },
      "source": [
        "param_grid = {'n_neighbors':np.arange(15,19)}"
      ],
      "execution_count": 396,
      "outputs": []
    },
    {
      "cell_type": "code",
      "metadata": {
        "colab": {
          "base_uri": "https://localhost:8080/"
        },
        "id": "f-puLFjVDQlt",
        "outputId": "3a12fac9-d67c-40cf-c559-eae634c4371c"
      },
      "source": [
        "# Hyper parameter tuning\n",
        "knn = KNeighborsRegressor(p=1)\n",
        "knn_cv= GridSearchCV(knn,param_grid,scoring='r2',cv=5)\n",
        "knn_cv.fit(X_train,y_train)"
      ],
      "execution_count": 397,
      "outputs": [
        {
          "output_type": "execute_result",
          "data": {
            "text/plain": [
              "GridSearchCV(cv=5, error_score=nan,\n",
              "             estimator=KNeighborsRegressor(algorithm='auto', leaf_size=30,\n",
              "                                           metric='minkowski',\n",
              "                                           metric_params=None, n_jobs=None,\n",
              "                                           n_neighbors=5, p=1,\n",
              "                                           weights='uniform'),\n",
              "             iid='deprecated', n_jobs=None,\n",
              "             param_grid={'n_neighbors': array([15, 16, 17, 18])},\n",
              "             pre_dispatch='2*n_jobs', refit=True, return_train_score=False,\n",
              "             scoring='r2', verbose=0)"
            ]
          },
          "metadata": {},
          "execution_count": 397
        }
      ]
    },
    {
      "cell_type": "code",
      "metadata": {
        "colab": {
          "base_uri": "https://localhost:8080/"
        },
        "id": "yqQBwCvtDTE8",
        "outputId": "b5fa5f4c-3b6d-41b8-d729-ab5757b92735"
      },
      "source": [
        "# Best possible score and parameters\n",
        "knn_cv.best_score_,knn_cv.best_params_,knn_cv.best_estimator_"
      ],
      "execution_count": 398,
      "outputs": [
        {
          "output_type": "execute_result",
          "data": {
            "text/plain": [
              "(0.804720005649898,\n",
              " {'n_neighbors': 15},\n",
              " KNeighborsRegressor(algorithm='auto', leaf_size=30, metric='minkowski',\n",
              "                     metric_params=None, n_jobs=None, n_neighbors=15, p=1,\n",
              "                     weights='uniform'))"
            ]
          },
          "metadata": {},
          "execution_count": 398
        }
      ]
    },
    {
      "cell_type": "code",
      "metadata": {
        "id": "qkyCw1R0Umfi"
      },
      "source": [
        "# Considering best estimator as optimal model\n",
        "knn_optimal_model=knn_cv.best_estimator_"
      ],
      "execution_count": 399,
      "outputs": []
    },
    {
      "cell_type": "code",
      "metadata": {
        "colab": {
          "base_uri": "https://localhost:8080/"
        },
        "id": "VHGefyGkU5eM",
        "outputId": "51a25c52-8197-47cb-f537-a775a92c210d"
      },
      "source": [
        "# Making predictions on train and test data\n",
        "\n",
        "knn_train_class_preds = knn_optimal_model.predict(X_train)\n",
        "knn_test_class_preds = knn_optimal_model.predict(X_test)\n",
        "knn_r2_train=r2_score(y_train,knn_train_class_preds)\n",
        "knn_r2_test=r2_score(y_test,knn_test_class_preds)\n",
        "print('Train R2 score of optimal knn model is' ,round(knn_r2_train*100,2))\n",
        "print('Test R2 score of optimal knn model is' ,round(knn_r2_test*100,2))\n",
        "score_result2['Model'].append('KNN Regressor')\n",
        "score_result2['Train R2 score'].append(round(knn_r2_train*100,2))\n",
        "score_result2['Test R2 score'].append(round(knn_r2_test*100,2))"
      ],
      "execution_count": 400,
      "outputs": [
        {
          "output_type": "stream",
          "name": "stdout",
          "text": [
            "Train R2 score of optimal knn model is 83.7\n",
            "Test R2 score of optimal knn model is 80.61\n"
          ]
        }
      ]
    },
    {
      "cell_type": "markdown",
      "metadata": {
        "id": "2g2_Wgransd3"
      },
      "source": [
        "### Decision Tree Model"
      ]
    },
    {
      "cell_type": "code",
      "metadata": {
        "colab": {
          "base_uri": "https://localhost:8080/"
        },
        "id": "PT5cvFO-Xhrh",
        "outputId": "306e4f12-a111-4c2a-8734-102ce1273d5e"
      },
      "source": [
        "# Decision tree model and hyper parameter tuning\n",
        "from pandas.core.common import random_state\n",
        "decisionTree = DecisionTreeRegressor(random_state=5)\n",
        "\n",
        "param = {'max_depth' : [5,6,7],'max_features':[10,11,13]}\n",
        "\n",
        "gridSearch_decisionTree=GridSearchCV(decisionTree,param,scoring='r2',cv=5)\n",
        "gridSearch_decisionTree.fit(X_train,y_train)\n"
      ],
      "execution_count": 401,
      "outputs": [
        {
          "output_type": "execute_result",
          "data": {
            "text/plain": [
              "GridSearchCV(cv=5, error_score=nan,\n",
              "             estimator=DecisionTreeRegressor(ccp_alpha=0.0, criterion='mse',\n",
              "                                             max_depth=None, max_features=None,\n",
              "                                             max_leaf_nodes=None,\n",
              "                                             min_impurity_decrease=0.0,\n",
              "                                             min_impurity_split=None,\n",
              "                                             min_samples_leaf=1,\n",
              "                                             min_samples_split=2,\n",
              "                                             min_weight_fraction_leaf=0.0,\n",
              "                                             presort='deprecated',\n",
              "                                             random_state=5, splitter='best'),\n",
              "             iid='deprecated', n_jobs=None,\n",
              "             param_grid={'max_depth': [5, 6, 7], 'max_features': [10, 11, 13]},\n",
              "             pre_dispatch='2*n_jobs', refit=True, return_train_score=False,\n",
              "             scoring='r2', verbose=0)"
            ]
          },
          "metadata": {},
          "execution_count": 401
        }
      ]
    },
    {
      "cell_type": "code",
      "metadata": {
        "colab": {
          "base_uri": "https://localhost:8080/"
        },
        "id": "g29fMZMRhto4",
        "outputId": "3454d332-a105-42ed-dcf6-17385c2ce78f"
      },
      "source": [
        "gridSearch_decisionTree.best_estimator_\n"
      ],
      "execution_count": 402,
      "outputs": [
        {
          "output_type": "execute_result",
          "data": {
            "text/plain": [
              "DecisionTreeRegressor(ccp_alpha=0.0, criterion='mse', max_depth=7,\n",
              "                      max_features=11, max_leaf_nodes=None,\n",
              "                      min_impurity_decrease=0.0, min_impurity_split=None,\n",
              "                      min_samples_leaf=1, min_samples_split=2,\n",
              "                      min_weight_fraction_leaf=0.0, presort='deprecated',\n",
              "                      random_state=5, splitter='best')"
            ]
          },
          "metadata": {},
          "execution_count": 402
        }
      ]
    },
    {
      "cell_type": "code",
      "metadata": {
        "colab": {
          "base_uri": "https://localhost:8080/"
        },
        "id": "UchKLuMHmqS3",
        "outputId": "7df3fa22-5158-4015-beae-f9ad78c95d9e"
      },
      "source": [
        "gridSearch_decisionTree.best_score_,gridSearch_decisionTree.best_params_\n"
      ],
      "execution_count": 403,
      "outputs": [
        {
          "output_type": "execute_result",
          "data": {
            "text/plain": [
              "(0.7811707162097938, {'max_depth': 7, 'max_features': 11})"
            ]
          },
          "metadata": {},
          "execution_count": 403
        }
      ]
    },
    {
      "cell_type": "code",
      "metadata": {
        "id": "hQCGyzdy1SF0"
      },
      "source": [
        "# Considering optimal model as best estimator from gridsearch\n",
        "dt_optimal_model=gridSearch_decisionTree.best_estimator_"
      ],
      "execution_count": 404,
      "outputs": []
    },
    {
      "cell_type": "code",
      "metadata": {
        "colab": {
          "base_uri": "https://localhost:8080/"
        },
        "id": "i1gcasda1ji4",
        "outputId": "a676ae4a-1d1f-4a93-963d-6105fca75f5e"
      },
      "source": [
        "# Making predictions on train and test data\n",
        "\n",
        "dt_train_class_preds = dt_optimal_model.predict(X_train)\n",
        "dt_test_class_preds = dt_optimal_model.predict(X_test)\n",
        "dt_r2_train=r2_score(y_train,dt_train_class_preds)\n",
        "dt_r2_test=r2_score(y_test,dt_test_class_preds)\n",
        "print('Train R2 score of optimal decision tree model is' ,round(dt_r2_train*100,2))\n",
        "print('Test R2 score of optimal decision tree model is' ,round(dt_r2_test*100,2))\n",
        "score_result2['Model'].append('Decision Tree')\n",
        "score_result2['Train R2 score'].append(round(dt_r2_train*100,2))\n",
        "score_result2['Test R2 score'].append(round(dt_r2_test*100,2))"
      ],
      "execution_count": 405,
      "outputs": [
        {
          "output_type": "stream",
          "name": "stdout",
          "text": [
            "Train R2 score of optimal decision tree model is 80.95\n",
            "Test R2 score of optimal decision tree model is 77.08\n"
          ]
        }
      ]
    },
    {
      "cell_type": "markdown",
      "metadata": {
        "id": "hshJFQzHoghC"
      },
      "source": [
        "### Random Forest Model"
      ]
    },
    {
      "cell_type": "code",
      "metadata": {
        "colab": {
          "base_uri": "https://localhost:8080/"
        },
        "id": "0vOgEiMukG4f",
        "outputId": "c564d76d-6ec4-409e-febf-a83938e857d0"
      },
      "source": [
        "# Random Forest Algorithm and Hyper parameter tuning \n",
        "randomForestAlgo = RandomForestRegressor(ccp_alpha=0.5,random_state=15,min_samples_split=60)\n",
        "\n",
        "param = {'n_estimators' : [50,60,70], \n",
        "         'max_depth' : [5,6,7]\n",
        "        }\n",
        "\n",
        "gridSearch_RandomForest=GridSearchCV(randomForestAlgo,param,scoring='r2',cv=5)\n",
        "gridSearch_RandomForest.fit(X_train,y_train)"
      ],
      "execution_count": 406,
      "outputs": [
        {
          "output_type": "execute_result",
          "data": {
            "text/plain": [
              "GridSearchCV(cv=5, error_score=nan,\n",
              "             estimator=RandomForestRegressor(bootstrap=True, ccp_alpha=0.5,\n",
              "                                             criterion='mse', max_depth=None,\n",
              "                                             max_features='auto',\n",
              "                                             max_leaf_nodes=None,\n",
              "                                             max_samples=None,\n",
              "                                             min_impurity_decrease=0.0,\n",
              "                                             min_impurity_split=None,\n",
              "                                             min_samples_leaf=1,\n",
              "                                             min_samples_split=60,\n",
              "                                             min_weight_fraction_leaf=0.0,\n",
              "                                             n_estimators=100, n_jobs=None,\n",
              "                                             oob_score=False, random_state=15,\n",
              "                                             verbose=0, warm_start=False),\n",
              "             iid='deprecated', n_jobs=None,\n",
              "             param_grid={'max_depth': [5, 6, 7], 'n_estimators': [50, 60, 70]},\n",
              "             pre_dispatch='2*n_jobs', refit=True, return_train_score=False,\n",
              "             scoring='r2', verbose=0)"
            ]
          },
          "metadata": {},
          "execution_count": 406
        }
      ]
    },
    {
      "cell_type": "code",
      "metadata": {
        "id": "FkS5kFv2o3yK"
      },
      "source": [
        "# Considering optimal model as best estimator from gridsearch\n",
        "rf_optimal_model=gridSearch_RandomForest.best_estimator_\n"
      ],
      "execution_count": 417,
      "outputs": []
    },
    {
      "cell_type": "code",
      "metadata": {
        "colab": {
          "base_uri": "https://localhost:8080/"
        },
        "id": "77m_v3ra1nmB",
        "outputId": "88078f90-8f59-4fbd-ba15-6fafced34eee"
      },
      "source": [
        "# Making predictions on train and test data\n",
        "\n",
        "rf_train_class_preds = rf_optimal_model.predict(X_train)\n",
        "rf_test_class_preds = rf_optimal_model.predict(X_test)\n",
        "rf_r2_train=r2_score(y_train,rf_train_class_preds)\n",
        "rf_r2_test=r2_score(y_test,rf_test_class_preds)\n",
        "print('Train R2 score of optimal Random Forest model is' ,round(rf_r2_train*100,2))\n",
        "print('Test R2 score of optimal Random Forest model is' ,round(rf_r2_test*100,2))\n",
        "score_result2['Model'].append('Random Forest')\n",
        "score_result2['Train R2 score'].append(round(rf_r2_train*100,2))\n",
        "score_result2['Test R2 score'].append(round(rf_r2_test*100,2))"
      ],
      "execution_count": 408,
      "outputs": [
        {
          "output_type": "stream",
          "name": "stdout",
          "text": [
            "Train R2 score of optimal Random Forest model is 83.9\n",
            "Test R2 score of optimal Random Forest model is 82.23\n"
          ]
        }
      ]
    },
    {
      "cell_type": "markdown",
      "metadata": {
        "id": "nVHoy5-ponRu"
      },
      "source": [
        "### XGBoost Model"
      ]
    },
    {
      "cell_type": "code",
      "metadata": {
        "colab": {
          "base_uri": "https://localhost:8080/"
        },
        "id": "9YKbrr1cpn4c",
        "outputId": "aad2a6ea-96f5-4a1a-b345-d8046345272d"
      },
      "source": [
        "from xgboost import XGBRegressor\n",
        "xgb=XGBRegressor(objective='reg:linear',n_estimators=100,seed=100,random_state=15,learning_rate=0.05)\n",
        "# Fitting the model\n",
        "xgb.fit(X_train,y_train,early_stopping_rounds=5,eval_set=[(X_test,y_test)],verbose=False)"
      ],
      "execution_count": 409,
      "outputs": [
        {
          "output_type": "stream",
          "name": "stdout",
          "text": [
            "[07:52:09] WARNING: /workspace/src/objective/regression_obj.cu:152: reg:linear is now deprecated in favor of reg:squarederror.\n"
          ]
        },
        {
          "output_type": "execute_result",
          "data": {
            "text/plain": [
              "XGBRegressor(base_score=0.5, booster='gbtree', colsample_bylevel=1,\n",
              "             colsample_bynode=1, colsample_bytree=1, gamma=0,\n",
              "             importance_type='gain', learning_rate=0.05, max_delta_step=0,\n",
              "             max_depth=3, min_child_weight=1, missing=None, n_estimators=100,\n",
              "             n_jobs=1, nthread=None, objective='reg:linear', random_state=15,\n",
              "             reg_alpha=0, reg_lambda=1, scale_pos_weight=1, seed=100,\n",
              "             silent=None, subsample=1, verbosity=1)"
            ]
          },
          "metadata": {},
          "execution_count": 409
        }
      ]
    },
    {
      "cell_type": "code",
      "metadata": {
        "id": "_I7JRBrPttEe",
        "colab": {
          "base_uri": "https://localhost:8080/"
        },
        "outputId": "114c0f26-fee5-459d-d9fa-a79fbc1a1e45"
      },
      "source": [
        "# Predicting results on test data \n",
        "predict_test = xgb.predict(X_test)\n",
        "r2_score(predict_test,y_test)"
      ],
      "execution_count": 410,
      "outputs": [
        {
          "output_type": "execute_result",
          "data": {
            "text/plain": [
              "0.7127141890262891"
            ]
          },
          "metadata": {},
          "execution_count": 410
        }
      ]
    },
    {
      "cell_type": "code",
      "metadata": {
        "colab": {
          "base_uri": "https://localhost:8080/"
        },
        "id": "LY_RA12JvmRm",
        "outputId": "5ea07637-735d-4daf-bcd8-05bd3c076940"
      },
      "source": [
        "# Hyper parameter tuning\n",
        "param_test = {\n",
        " 'reg_alpha':[96,98,100,102,104]\n",
        "}\n",
        "gsearch = GridSearchCV(estimator = XGBRegressor(learning_rate=0.04,max_depth=7,n_estimators=50,verbosity=0,silent=True,colsample_bytree=0.9, min_child_weight=7,subsample=0.85,gamma=0,\n",
        "objective= 'reg:linear', nthread=4,scale_pos_weight=1,seed=27),param_grid=param_test, cv=5)\n",
        "gsearch.fit(X_train,y_train,early_stopping_rounds=5,eval_set=[(X_test,y_test)],verbose=False)\n",
        "\n",
        "gsearch.best_params_,"
      ],
      "execution_count": 416,
      "outputs": [
        {
          "output_type": "execute_result",
          "data": {
            "text/plain": [
              "({'reg_alpha': 100},)"
            ]
          },
          "metadata": {},
          "execution_count": 416
        }
      ]
    },
    {
      "cell_type": "code",
      "metadata": {
        "colab": {
          "base_uri": "https://localhost:8080/"
        },
        "id": "YnFlSbaLz_NN",
        "outputId": "69099898-d5fc-40cc-fe7b-85f4d8a59587"
      },
      "source": [
        "gsearch.best_estimator_"
      ],
      "execution_count": 412,
      "outputs": [
        {
          "output_type": "execute_result",
          "data": {
            "text/plain": [
              "XGBRegressor(base_score=0.5, booster='gbtree', colsample_bylevel=1,\n",
              "             colsample_bynode=1, colsample_bytree=0.9, gamma=0,\n",
              "             importance_type='gain', learning_rate=0.04, max_delta_step=0,\n",
              "             max_depth=7, min_child_weight=7, missing=None, n_estimators=50,\n",
              "             n_jobs=1, nthread=4, objective='reg:linear', random_state=0,\n",
              "             reg_alpha=100, reg_lambda=1, scale_pos_weight=1, seed=27,\n",
              "             silent=True, subsample=0.85, verbosity=0)"
            ]
          },
          "metadata": {},
          "execution_count": 412
        }
      ]
    },
    {
      "cell_type": "code",
      "metadata": {
        "id": "SAPnARqlRHqp"
      },
      "source": [
        "# Considering optimal model as best estimator from gridsearch CV\n",
        "xgb_optimal_model=gsearch.best_estimator_"
      ],
      "execution_count": 413,
      "outputs": []
    },
    {
      "cell_type": "code",
      "metadata": {
        "colab": {
          "base_uri": "https://localhost:8080/"
        },
        "id": "3lyscmUu1vTK",
        "outputId": "8880390c-ff44-4485-cd0c-816ec347095d"
      },
      "source": [
        "# Making predictions on train and test data\n",
        "\n",
        "xgb_train_class_preds = xgb_optimal_model.predict(X_train)\n",
        "xgb_test_class_preds = xgb_optimal_model.predict(X_test)\n",
        "\n",
        "#Printing r2 score of test and train data\n",
        "xgb_r2_train=r2_score(y_train,xgb_train_class_preds)\n",
        "xgb_r2_test=r2_score(y_test,xgb_test_class_preds)\n",
        "print('Train R2 score of optimal XGBoost model is' ,round(xgb_r2_train*100,2))\n",
        "print('Test R2 score of optimal XGBoost model is' ,round(xgb_r2_test*100,2))\n",
        "score_result2['Model'].append('XGBoost')\n",
        "score_result2['Train R2 score'].append(round(xgb_r2_train*100,2))\n",
        "score_result2['Test R2 score'].append(round(xgb_r2_test*100,2))"
      ],
      "execution_count": 414,
      "outputs": [
        {
          "output_type": "stream",
          "name": "stdout",
          "text": [
            "Train R2 score of optimal XGBoost model is 84.28\n",
            "Test R2 score of optimal XGBoost model is 81.64\n"
          ]
        }
      ]
    },
    {
      "cell_type": "code",
      "metadata": {
        "colab": {
          "base_uri": "https://localhost:8080/",
          "height": 206
        },
        "id": "uLCPzYV4r64Q",
        "outputId": "bdb90d01-06c9-496c-9252-9c21c94780a5"
      },
      "source": [
        "# Displaying the results of all the models\n",
        "result_df=pd.DataFrame(data=score_result2)\n",
        "result_df"
      ],
      "execution_count": 415,
      "outputs": [
        {
          "output_type": "execute_result",
          "data": {
            "text/html": [
              "<div>\n",
              "<style scoped>\n",
              "    .dataframe tbody tr th:only-of-type {\n",
              "        vertical-align: middle;\n",
              "    }\n",
              "\n",
              "    .dataframe tbody tr th {\n",
              "        vertical-align: top;\n",
              "    }\n",
              "\n",
              "    .dataframe thead th {\n",
              "        text-align: right;\n",
              "    }\n",
              "</style>\n",
              "<table border=\"1\" class=\"dataframe\">\n",
              "  <thead>\n",
              "    <tr style=\"text-align: right;\">\n",
              "      <th></th>\n",
              "      <th>Model</th>\n",
              "      <th>Train R2 score</th>\n",
              "      <th>Test R2 score</th>\n",
              "    </tr>\n",
              "  </thead>\n",
              "  <tbody>\n",
              "    <tr>\n",
              "      <th>0</th>\n",
              "      <td>SVM Regressor</td>\n",
              "      <td>81.78</td>\n",
              "      <td>81.24</td>\n",
              "    </tr>\n",
              "    <tr>\n",
              "      <th>1</th>\n",
              "      <td>KNN Regressor</td>\n",
              "      <td>83.70</td>\n",
              "      <td>80.61</td>\n",
              "    </tr>\n",
              "    <tr>\n",
              "      <th>2</th>\n",
              "      <td>Decision Tree</td>\n",
              "      <td>80.95</td>\n",
              "      <td>77.08</td>\n",
              "    </tr>\n",
              "    <tr>\n",
              "      <th>3</th>\n",
              "      <td>Random Forest</td>\n",
              "      <td>83.90</td>\n",
              "      <td>82.23</td>\n",
              "    </tr>\n",
              "    <tr>\n",
              "      <th>4</th>\n",
              "      <td>XGBoost</td>\n",
              "      <td>84.28</td>\n",
              "      <td>81.64</td>\n",
              "    </tr>\n",
              "  </tbody>\n",
              "</table>\n",
              "</div>"
            ],
            "text/plain": [
              "           Model  Train R2 score  Test R2 score\n",
              "0  SVM Regressor           81.78          81.24\n",
              "1  KNN Regressor           83.70          80.61\n",
              "2  Decision Tree           80.95          77.08\n",
              "3  Random Forest           83.90          82.23\n",
              "4        XGBoost           84.28          81.64"
            ]
          },
          "metadata": {},
          "execution_count": 415
        }
      ]
    },
    {
      "cell_type": "markdown",
      "metadata": {
        "id": "XldrZ9pTXNW7"
      },
      "source": [
        "# **Summary**\n",
        "\n",
        "# 1. Performed Exploratory Data Analysis on the data to gain some insights.\n",
        "\n",
        "# 2.Treated the outliers using log transformation.\n",
        "\n",
        "# 3. Label encoding was done for categorical variables.\n",
        "\n",
        "# 4.Standard Scaler was used to scale down the data.\n",
        "\n",
        "# 5.Applied 5 machine learning models on the dataset i.e,\n",
        "\n",
        "###- Support Vector Machine.\n",
        "###- K Nearest Neighbor.\n",
        "###- Decision Tree.\n",
        "###- Random Forest Classifier.\n",
        "###- XGBoost.\n",
        "\n",
        "# 6.Hyperparameter tuning was performed on all the models using Grid Search CV to get best parameters and best scores.\n",
        "\n",
        "# 7.Random Forest Model performed best among the five models with train R2 score of 83.9 % and test R2 score of 82.23 %.\n"
      ]
    }
  ]
}